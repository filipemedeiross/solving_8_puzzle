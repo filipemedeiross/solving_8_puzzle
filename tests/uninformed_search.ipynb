{
 "cells": [
  {
   "cell_type": "markdown",
   "metadata": {
    "id": "ZH2er6t_z_mt"
   },
   "source": [
    "# The 8-puzzle"
   ]
  },
  {
   "cell_type": "markdown",
   "metadata": {
    "id": "pMs-CuWJ6aPC"
   },
   "source": [
    "## Standard Formulation"
   ]
  },
  {
   "cell_type": "code",
   "execution_count": 1,
   "metadata": {},
   "outputs": [],
   "source": [
    "# Including path to previous directory in built-in variable sys.path\n",
    "\n",
    "import sys\n",
    "\n",
    "sys.path.append('../')"
   ]
  },
  {
   "cell_type": "code",
   "execution_count": 2,
   "metadata": {},
   "outputs": [],
   "source": [
    "# Importing the standard formulation\n",
    "\n",
    "import numpy as np\n",
    "from puzzle import formulations  # formulation returns the default\n",
    "from collections import deque"
   ]
  },
  {
   "cell_type": "code",
   "execution_count": 3,
   "metadata": {},
   "outputs": [],
   "source": [
    "# Class with a search problem\n",
    "\n",
    "class Problem:\n",
    "    def __init__(self, initial, objective, actions, result):\n",
    "        self.initial = initial\n",
    "        self.objective = objective\n",
    "        self.actions = actions\n",
    "        self.result = result  # defines the transition model"
   ]
  },
  {
   "cell_type": "code",
   "execution_count": 4,
   "metadata": {},
   "outputs": [],
   "source": [
    "# Class with a tree node\n",
    "\n",
    "class Node:\n",
    "    def __init__(self, state, cost, parent, action):\n",
    "        self.state = state\n",
    "        self.cost = cost\n",
    "        self.parent = parent\n",
    "        self.action = action\n",
    "\n",
    "    def __str__(self):  # representing the node\n",
    "        return '\\n\\n'.join(['  '.join(map(str, grid)) for grid in self.state[0:2]]) + \\\n",
    "               '  >>>  ' + str(self.cost) + '\\n\\n' + \\\n",
    "               '\\n\\n'.join(['  '.join(map(str, grid)) for grid in self.state[2:]])\n",
    "\n",
    "    @classmethod\n",
    "    def child(cls, problem, parent, action):\n",
    "        state = problem.result(parent.state, action)\n",
    "    \n",
    "        return cls(state, parent.cost + 1, parent, action)  # returning the child\n",
    "\n",
    "    @property\n",
    "    def solution(self):\n",
    "        node = self;\n",
    "        solution = []\n",
    "\n",
    "        while node:\n",
    "            solution.append(node)\n",
    "            node = node.parent\n",
    "\n",
    "        solution.reverse()\n",
    "\n",
    "        return solution"
   ]
  },
  {
   "cell_type": "code",
   "execution_count": 5,
   "metadata": {},
   "outputs": [],
   "source": [
    "# Creating new instances of the problem\n",
    "\n",
    "grid1 = np.array([[3, 2, 7],\n",
    "                  [4, 8, 1],\n",
    "                  [6, 5, 0]])\n",
    "\n",
    "grid2 = np.array([[3, 2, 7],\n",
    "                  [4, 8, 0],\n",
    "                  [6, 5, 1]])\n",
    "\n",
    "grid3 = np.array([[3, 2, 0],\n",
    "                  [4, 8, 7],\n",
    "                  [6, 5, 1]])\n",
    "\n",
    "puzzle_12_steps = Problem(Node(grid1, 0, None, None), formulations.won,\n",
    "                          formulations.available_moves, formulations.move_grid)\n",
    "\n",
    "puzzle_13_steps = Problem(Node(grid2, 0, None, None), formulations.won,\n",
    "                          formulations.available_moves, formulations.move_grid)\n",
    "\n",
    "puzzle_14_steps = Problem(Node(grid3, 0, None, None), formulations.won,\n",
    "                          formulations.available_moves, formulations.move_grid)"
   ]
  },
  {
   "cell_type": "markdown",
   "metadata": {
    "id": "n2awg2BNvVpp"
   },
   "source": [
    "## Breadth-First Search"
   ]
  },
  {
   "cell_type": "markdown",
   "metadata": {},
   "source": [
    "Efficient for paths with up to 12 steps:"
   ]
  },
  {
   "cell_type": "code",
   "execution_count": 6,
   "metadata": {
    "id": "m7KWH-N9vBrA"
   },
   "outputs": [],
   "source": [
    "# Constants for current search status\n",
    "\n",
    "SEARCH_NOT_STARTED = 0\n",
    "SEARCH_STARTED = 1\n",
    "SEARCH_FAIL = 2\n",
    "SEARCH_SUCCESS = 3\n",
    "\n",
    "# Class that will implement breadth-first search\n",
    "\n",
    "class BFS:\n",
    "    def __init__(self, problem):\n",
    "        self.problem = problem\n",
    "        self.frontier = deque([])\n",
    "        self.explored = deque([])\n",
    "        self.situation = SEARCH_NOT_STARTED\n",
    "        self.solution = []\n",
    "\n",
    "    def step_search(self):\n",
    "        # Root node initial check\n",
    "        if self.situation == SEARCH_NOT_STARTED:  # only if the search did not fail or was successful\n",
    "            if self.problem.objective(self.problem.initial.state):\n",
    "                self.solution.append(self.problem.initial)\n",
    "                self.situation = SEARCH_SUCCESS\n",
    "\n",
    "                print('Root corresponds to the search objective!')\n",
    "                return\n",
    "            else:\n",
    "                self.frontier.append(self.problem.initial)\n",
    "                self.situation = SEARCH_STARTED  # indicates that the search has started\n",
    "\n",
    "        # Checking if the search process failed\n",
    "        if self.situation == SEARCH_FAIL:\n",
    "            print(\"Search process failed!\")\n",
    "            return\n",
    "\n",
    "        # Checking if the search was successful\n",
    "        if self.situation == SEARCH_SUCCESS:\n",
    "            print(\"Solution already found!\")\n",
    "            return\n",
    "    \n",
    "        if not all(self.frontier):  # empty border ends the search\n",
    "            self.situation = SEARCH_FAIL\n",
    "            return\n",
    "\n",
    "        # Performing the search step\n",
    "        node = self.frontier.popleft()\n",
    "\n",
    "        self.explored.append(node.state)\n",
    "\n",
    "        for action in self.problem.actions(node.state):\n",
    "            child = Node.child(self.problem, node, action)\n",
    "            \n",
    "            if child not in self.frontier and not self.explored_node(child.state):\n",
    "                if self.problem.objective(child.state):\n",
    "                    self.solution = child.solution\n",
    "                    self.situation = SEARCH_SUCCESS\n",
    "                    return\n",
    "                \n",
    "                self.frontier.append(child)\n",
    "\n",
    "    def search(self):\n",
    "        # Loop that performs breadth-first search\n",
    "        while self.situation != SEARCH_FAIL and self.situation != SEARCH_SUCCESS:\n",
    "            self.step_search()\n",
    "\n",
    "        if self.situation == SEARCH_FAIL:\n",
    "            print(\"Search process failed!\")\n",
    "        else:\n",
    "            print(\"Solution found: \")\n",
    "            print(self.show_solution)\n",
    "        \n",
    "    def explored_node(self, state):\n",
    "        for state_explored in self.explored:\n",
    "            if np.all(state == state_explored):\n",
    "                return True\n",
    "            \n",
    "        return False\n",
    "\n",
    "    @property\n",
    "    def show_solution(self):\n",
    "        if self.situation == SEARCH_SUCCESS:\n",
    "            return '\\n'.join([node.__str__() for node in self.solution]) + \\\n",
    "                  f'\\nCusto: {self.solution[-1].cost}'\n",
    "    \n",
    "        print(\"Solução ainda não foi encontrada!\")  \n",
    "\n",
    "    @property\n",
    "    def show_frontier(self):\n",
    "        return '#'*15 + '\\n' + \\\n",
    "               '\\n'.join([node.__str__() for node in self.frontier]) + \\\n",
    "               '\\n' + '#'*15"
   ]
  },
  {
   "cell_type": "markdown",
   "metadata": {},
   "source": [
    "Testing breadth-first search:"
   ]
  },
  {
   "cell_type": "code",
   "execution_count": 7,
   "metadata": {},
   "outputs": [],
   "source": [
    "bfs = BFS(puzzle_12_steps)"
   ]
  },
  {
   "cell_type": "code",
   "execution_count": 8,
   "metadata": {},
   "outputs": [
    {
     "name": "stdout",
     "output_type": "stream",
     "text": [
      "Solution found: \n",
      "3  2  7\n",
      "\n",
      "4  8  1  >>>  0\n",
      "\n",
      "6  5  0\n",
      "3  2  7\n",
      "\n",
      "4  8  1  >>>  1\n",
      "\n",
      "6  0  5\n",
      "3  2  7\n",
      "\n",
      "4  0  1  >>>  2\n",
      "\n",
      "6  8  5\n",
      "3  2  7\n",
      "\n",
      "4  1  0  >>>  3\n",
      "\n",
      "6  8  5\n",
      "3  2  0\n",
      "\n",
      "4  1  7  >>>  4\n",
      "\n",
      "6  8  5\n",
      "3  0  2\n",
      "\n",
      "4  1  7  >>>  5\n",
      "\n",
      "6  8  5\n",
      "3  1  2\n",
      "\n",
      "4  0  7  >>>  6\n",
      "\n",
      "6  8  5\n",
      "3  1  2\n",
      "\n",
      "4  7  0  >>>  7\n",
      "\n",
      "6  8  5\n",
      "3  1  2\n",
      "\n",
      "4  7  5  >>>  8\n",
      "\n",
      "6  8  0\n",
      "3  1  2\n",
      "\n",
      "4  7  5  >>>  9\n",
      "\n",
      "6  0  8\n",
      "3  1  2\n",
      "\n",
      "4  0  5  >>>  10\n",
      "\n",
      "6  7  8\n",
      "3  1  2\n",
      "\n",
      "0  4  5  >>>  11\n",
      "\n",
      "6  7  8\n",
      "0  1  2\n",
      "\n",
      "3  4  5  >>>  12\n",
      "\n",
      "6  7  8\n",
      "Custo: 12\n",
      "CPU times: user 5.15 s, sys: 33.7 ms, total: 5.18 s\n",
      "Wall time: 5.14 s\n"
     ]
    }
   ],
   "source": [
    "%%time\n",
    "\n",
    "bfs.search()  # checking the efficiency"
   ]
  },
  {
   "cell_type": "markdown",
   "metadata": {},
   "source": [
    "Breadth-first search via function:"
   ]
  },
  {
   "cell_type": "code",
   "execution_count": 9,
   "metadata": {},
   "outputs": [],
   "source": [
    "def bfs(problem):\n",
    "    node = problem.initial\n",
    "    \n",
    "    if problem.objective(node.state):\n",
    "        return node.solution\n",
    "    \n",
    "    frontier = deque([node])\n",
    "    explored = deque([])\n",
    "    \n",
    "    while True:\n",
    "        if not all(frontier):  # empty border ends the search\n",
    "            print(\"Search process failed!\")\n",
    "            return None\n",
    "\n",
    "        # Performing the search step\n",
    "        node = frontier.popleft()\n",
    "        \n",
    "        explored.append(node.state)\n",
    "        \n",
    "        for action in problem.actions(node.state):\n",
    "            child = Node.child(problem, node, action)\n",
    "            \n",
    "            visited = False\n",
    "            for state_explored in explored:\n",
    "                if np.all(child.state == state_explored):\n",
    "                    visited = True\n",
    "                    break\n",
    "            \n",
    "            if child not in frontier and not visited:\n",
    "                if problem.objective(child.state):\n",
    "                    print(\"Solução encontrada!\")\n",
    "                    return child.solution\n",
    "      \n",
    "                frontier.append(child)\n",
    "\n",
    "def show_solution(solution):\n",
    "    print('\\n'.join([node.__str__() for node in solution]) + \\\n",
    "         f'\\nCusto: {solution[-1].cost}')"
   ]
  },
  {
   "cell_type": "code",
   "execution_count": 10,
   "metadata": {},
   "outputs": [
    {
     "name": "stdout",
     "output_type": "stream",
     "text": [
      "Solução encontrada!\n",
      "3  2  7\n",
      "\n",
      "4  8  1  >>>  0\n",
      "\n",
      "6  5  0\n",
      "3  2  7\n",
      "\n",
      "4  8  1  >>>  1\n",
      "\n",
      "6  0  5\n",
      "3  2  7\n",
      "\n",
      "4  0  1  >>>  2\n",
      "\n",
      "6  8  5\n",
      "3  2  7\n",
      "\n",
      "4  1  0  >>>  3\n",
      "\n",
      "6  8  5\n",
      "3  2  0\n",
      "\n",
      "4  1  7  >>>  4\n",
      "\n",
      "6  8  5\n",
      "3  0  2\n",
      "\n",
      "4  1  7  >>>  5\n",
      "\n",
      "6  8  5\n",
      "3  1  2\n",
      "\n",
      "4  0  7  >>>  6\n",
      "\n",
      "6  8  5\n",
      "3  1  2\n",
      "\n",
      "4  7  0  >>>  7\n",
      "\n",
      "6  8  5\n",
      "3  1  2\n",
      "\n",
      "4  7  5  >>>  8\n",
      "\n",
      "6  8  0\n",
      "3  1  2\n",
      "\n",
      "4  7  5  >>>  9\n",
      "\n",
      "6  0  8\n",
      "3  1  2\n",
      "\n",
      "4  0  5  >>>  10\n",
      "\n",
      "6  7  8\n",
      "3  1  2\n",
      "\n",
      "0  4  5  >>>  11\n",
      "\n",
      "6  7  8\n",
      "0  1  2\n",
      "\n",
      "3  4  5  >>>  12\n",
      "\n",
      "6  7  8\n",
      "Custo: 12\n",
      "CPU times: user 5.16 s, sys: 20 ms, total: 5.18 s\n",
      "Wall time: 5.16 s\n"
     ]
    }
   ],
   "source": [
    "%%time\n",
    "\n",
    "show_solution(bfs(puzzle_12_steps))  # checking the efficiency"
   ]
  },
  {
   "cell_type": "markdown",
   "metadata": {},
   "source": [
    "## Backtracking search"
   ]
  },
  {
   "cell_type": "markdown",
   "metadata": {},
   "source": [
    "Efficient for paths with up to 14 steps:"
   ]
  },
  {
   "cell_type": "code",
   "execution_count": 11,
   "metadata": {},
   "outputs": [],
   "source": [
    "reverse_state = {'l': 'r',\n",
    "                 'r': 'l',\n",
    "                 'd': 'u',\n",
    "                 'u': 'd'}\n",
    "\n",
    "def backtracking(problem, limit):\n",
    "    solution = np.array([None for i in range(limit+1)])\n",
    "    \n",
    "    size = 0\n",
    "    solution[size] = (problem.initial.state,\n",
    "                      problem.actions(problem.initial.state))\n",
    "    \n",
    "    while not problem.objective(solution[size][0]):        \n",
    "        if size == limit:\n",
    "            size -= 1\n",
    "            \n",
    "            while not solution[size][1]:\n",
    "                size -= 1\n",
    "                \n",
    "                if size == -1:\n",
    "                    return None\n",
    "\n",
    "        state = problem.result(solution[size][0], solution[size][1].pop())\n",
    "\n",
    "        size += 1\n",
    "        solution[size] = (state, problem.actions(state))\n",
    "    \n",
    "    return solution"
   ]
  },
  {
   "cell_type": "markdown",
   "metadata": {},
   "source": [
    "Testing backtracking search:"
   ]
  },
  {
   "cell_type": "code",
   "execution_count": 12,
   "metadata": {},
   "outputs": [
    {
     "name": "stdout",
     "output_type": "stream",
     "text": [
      "CPU times: user 8.66 s, sys: 195 ms, total: 8.85 s\n",
      "Wall time: 8.59 s\n"
     ]
    },
    {
     "data": {
      "text/plain": [
       "13"
      ]
     },
     "execution_count": 12,
     "metadata": {},
     "output_type": "execute_result"
    }
   ],
   "source": [
    "%%time\n",
    "\n",
    "solution = backtracking(puzzle_12_steps, 12)\n",
    "\n",
    "len(solution)"
   ]
  },
  {
   "cell_type": "code",
   "execution_count": 13,
   "metadata": {},
   "outputs": [
    {
     "name": "stdout",
     "output_type": "stream",
     "text": [
      "CPU times: user 8.23 s, sys: 279 ms, total: 8.51 s\n",
      "Wall time: 8.18 s\n"
     ]
    },
    {
     "data": {
      "text/plain": [
       "14"
      ]
     },
     "execution_count": 13,
     "metadata": {},
     "output_type": "execute_result"
    }
   ],
   "source": [
    "%%time\n",
    "\n",
    "solution = backtracking(puzzle_13_steps, 13)\n",
    "\n",
    "len(solution)"
   ]
  },
  {
   "cell_type": "code",
   "execution_count": 14,
   "metadata": {},
   "outputs": [
    {
     "name": "stdout",
     "output_type": "stream",
     "text": [
      "CPU times: user 8.67 s, sys: 359 ms, total: 9.03 s\n",
      "Wall time: 8.66 s\n"
     ]
    },
    {
     "data": {
      "text/plain": [
       "15"
      ]
     },
     "execution_count": 14,
     "metadata": {},
     "output_type": "execute_result"
    }
   ],
   "source": [
    "%%time\n",
    "\n",
    "solution = backtracking(puzzle_14_steps, 14)\n",
    "\n",
    "len(solution)"
   ]
  }
 ],
 "metadata": {
  "colab": {
   "collapsed_sections": [],
   "name": "search_algorithms.ipynb",
   "provenance": []
  },
  "kernelspec": {
   "display_name": ".venv",
   "language": "python",
   "name": ".venv"
  },
  "language_info": {
   "codemirror_mode": {
    "name": "ipython",
    "version": 3
   },
   "file_extension": ".py",
   "mimetype": "text/x-python",
   "name": "python",
   "nbconvert_exporter": "python",
   "pygments_lexer": "ipython3",
   "version": "3.8.10"
  }
 },
 "nbformat": 4,
 "nbformat_minor": 1
}
