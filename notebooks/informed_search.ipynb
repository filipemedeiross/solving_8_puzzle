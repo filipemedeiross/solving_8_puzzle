{
 "cells": [
  {
   "cell_type": "markdown",
   "id": "bb6d8764",
   "metadata": {},
   "source": [
    "# THE 8-PUZZLE"
   ]
  },
  {
   "cell_type": "markdown",
   "id": "afb5a754",
   "metadata": {
    "jp-MarkdownHeadingCollapsed": true
   },
   "source": [
    "## STANDARD FORMULATION"
   ]
  },
  {
   "cell_type": "markdown",
   "id": "d48d23d6-0e9d-40d2-8b2e-63abab6ca1bf",
   "metadata": {},
   "source": [
    "Including path to previous directory in built-in variable `sys.path`:"
   ]
  },
  {
   "cell_type": "code",
   "execution_count": 1,
   "id": "4fa965a4",
   "metadata": {},
   "outputs": [],
   "source": [
    "import sys\n",
    "\n",
    "sys.path.append('../')"
   ]
  },
  {
   "cell_type": "markdown",
   "id": "53176fa2-a55d-4599-9178-2a7394f53095",
   "metadata": {},
   "source": [
    "Importing the relevant libraries and the standard formulation of the 8-puzzle problem (the submodule `.formulations` returns the default):\n",
    "\n",
    "- Initial state\n",
    "- Objective state\n",
    "- Actions\n",
    "- Transition model"
   ]
  },
  {
   "cell_type": "code",
   "execution_count": 2,
   "id": "944dd269",
   "metadata": {},
   "outputs": [],
   "source": [
    "from time import time\n",
    "from collections import deque\n",
    "from puzzle import formulations\n",
    "\n",
    "import numpy as np\n",
    "import pandas as pd\n",
    "import seaborn as sns\n",
    "import matplotlib.pyplot as plt"
   ]
  },
  {
   "cell_type": "markdown",
   "id": "9e113917-2d38-4389-a0d0-588498a99db6",
   "metadata": {},
   "source": [
    "Defining the manhattan heuristic (this is the information that will be embedded in the search):"
   ]
  },
  {
   "cell_type": "code",
   "execution_count": 3,
   "id": "2652d2f0",
   "metadata": {},
   "outputs": [],
   "source": [
    "N = 3\n",
    "OBJ_GRID = formulations.objective_grid(N)\n",
    "\n",
    "def heuristic_manhattan(grid):\n",
    "    distance = 0\n",
    "\n",
    "    for x in range(1, 9):\n",
    "        x0, y0 = np.where(grid == x)\n",
    "        x0, y0 = x0[0], y0[0]\n",
    "        \n",
    "        x1, y1 = np.where(OBJ_GRID == x)\n",
    "        x1, y1 = x1[0], y1[0]\n",
    "        \n",
    "        distance += abs(x1 - x0) + abs(y1 - y0)\n",
    "\n",
    "    return distance"
   ]
  },
  {
   "cell_type": "markdown",
   "id": "767ea6e7-40c4-44a9-806c-7c1548909a40",
   "metadata": {},
   "source": [
    "Defining the classes of the search problem (the `result` attribute defines the transition model) and a search node:"
   ]
  },
  {
   "cell_type": "code",
   "execution_count": 4,
   "id": "ca00e0a9",
   "metadata": {},
   "outputs": [],
   "source": [
    "class Problem:\n",
    "    def __init__(self, initial, objective, actions, result):\n",
    "        self.initial = initial\n",
    "        self.objective = objective\n",
    "        self.actions = actions\n",
    "        self.result = result\n",
    "\n",
    "class Node:\n",
    "    def __init__(self, state, cost, parent, action):\n",
    "        self.state  = state\n",
    "        self.cost   = cost\n",
    "        self.parent = parent\n",
    "        self.action = action\n",
    "        self.f      = self.cost + heuristic_manhattan(self.state)\n",
    "\n",
    "    def __str__(self):\n",
    "        return '\\n\\n'.join(['  '.join(map(str, grid)) for grid in self.state[0:2]]) + \\\n",
    "               '  >>>  ' + str(self.cost) + '\\n\\n' + \\\n",
    "               '\\n\\n'.join(['  '.join(map(str, grid)) for grid in self.state[2:]])\n",
    "\n",
    "    @classmethod\n",
    "    def child(cls, problem, parent, action):\n",
    "        state = problem.result(parent.state, action)\n",
    "\n",
    "        return cls(state, parent.cost + 1, parent, action)\n",
    "\n",
    "    @property\n",
    "    def solution(self):\n",
    "        solution = []\n",
    "\n",
    "        node = self\n",
    "        while node:\n",
    "            solution.append(node)\n",
    "            node = node.parent\n",
    "\n",
    "        solution.reverse()\n",
    "\n",
    "        return solution"
   ]
  },
  {
   "cell_type": "markdown",
   "id": "5dabf96a-087f-42cd-99b4-27340942dec4",
   "metadata": {},
   "source": [
    "Creating new instances of the problem with different resolution complexities:"
   ]
  },
  {
   "cell_type": "code",
   "execution_count": 5,
   "id": "619a7cca",
   "metadata": {},
   "outputs": [
    {
     "name": "stdout",
     "output_type": "stream",
     "text": [
      "3  2  7\n",
      "\n",
      "4  8  1  >>>  0\n",
      "\n",
      "6  5  0\n",
      "=======\n",
      "3  2  7\n",
      "\n",
      "4  8  0  >>>  0\n",
      "\n",
      "6  5  1\n",
      "=======\n",
      "3  2  0\n",
      "\n",
      "4  8  7  >>>  0\n",
      "\n",
      "6  5  1\n",
      "=======\n",
      "2  6  1\n",
      "\n",
      "7  5  0  >>>  0\n",
      "\n",
      "8  3  4\n",
      "=======\n",
      "7  2  4\n",
      "\n",
      "5  0  6  >>>  0\n",
      "\n",
      "8  3  1\n"
     ]
    }
   ],
   "source": [
    "grid1 = np.array([[3, 2, 7],\n",
    "                  [4, 8, 1],\n",
    "                  [6, 5, 0]])\n",
    "\n",
    "grid2 = np.array([[3, 2, 7],\n",
    "                  [4, 8, 0],\n",
    "                  [6, 5, 1]])\n",
    "\n",
    "grid3 = np.array([[3, 2, 0],\n",
    "                  [4, 8, 7],\n",
    "                  [6, 5, 1]])\n",
    "\n",
    "grid4 = np.array([[2, 6, 1],\n",
    "                  [7, 5, 0],\n",
    "                  [8, 3, 4]])\n",
    "\n",
    "grid5 = np.array([[7, 2, 4],\n",
    "                  [5, 0, 6],\n",
    "                  [8, 3, 1]])\n",
    "\n",
    "puzzle_12_steps = Problem(Node(grid1, 0, None, None), formulations.won_comp,\n",
    "                          formulations.available_moves, formulations.move_grid)\n",
    "\n",
    "puzzle_13_steps = Problem(Node(grid2, 0, None, None), formulations.won_comp,\n",
    "                          formulations.available_moves, formulations.move_grid)\n",
    "\n",
    "puzzle_14_steps = Problem(Node(grid3, 0, None, None), formulations.won_comp,\n",
    "                          formulations.available_moves, formulations.move_grid)\n",
    "\n",
    "puzzle_23_steps = Problem(Node(grid4, 0, None, None), formulations.won_comp,\n",
    "                          formulations.available_moves, formulations.move_grid)\n",
    "\n",
    "puzzle_26_steps = Problem(Node(grid5, 0, None, None), formulations.won_comp,\n",
    "                          formulations.available_moves, formulations.move_grid)\n",
    "\n",
    "print(puzzle_12_steps.initial)\n",
    "print('=' * 7)\n",
    "print(puzzle_13_steps.initial)\n",
    "print('=' * 7)\n",
    "print(puzzle_14_steps.initial)\n",
    "print('=' * 7)\n",
    "print(puzzle_23_steps.initial)\n",
    "print('=' * 7)\n",
    "print(puzzle_26_steps.initial)"
   ]
  },
  {
   "cell_type": "markdown",
   "id": "7460ef0e-f99f-44b3-bd20-f02346afd85d",
   "metadata": {
    "jp-MarkdownHeadingCollapsed": true
   },
   "source": [
    "## PRIORITY QUEUE"
   ]
  },
  {
   "cell_type": "markdown",
   "id": "ec4314e8",
   "metadata": {},
   "source": [
    "Implements a priority queue via a min-heap tree:\n",
    "\n",
    "- In this binary tree the smallest element is always at the root\n",
    "- Elements must be objects that are compared by the `f` property"
   ]
  },
  {
   "cell_type": "code",
   "execution_count": 6,
   "id": "7d0bda6b",
   "metadata": {},
   "outputs": [],
   "source": [
    "class MinHeap:\n",
    "    def __init__(self):\n",
    "        self.contents = []\n",
    "        self.capacity = 0\n",
    "        self.size = 0\n",
    "        \n",
    "    def __getitem__(self, index):\n",
    "        return self.contents[index]\n",
    "\n",
    "    def remove_min(self):\n",
    "        if (self.size < 1):\n",
    "            return None\n",
    "\n",
    "        minimum = self.contents[0]\n",
    "        self.contents[0] = self.contents[self.size-1]\n",
    "        self.size -= 1\n",
    "\n",
    "        self.min_heapify(0)\n",
    "\n",
    "        return minimum\n",
    "    \n",
    "    def remove(self, index):\n",
    "        self.contents.pop(index)\n",
    "        \n",
    "        self.capacity -= 1\n",
    "        self.size -= 1\n",
    "\n",
    "    def add(self, node):\n",
    "        self.insert_node(self.size, node)\n",
    "        self.size += 1\n",
    "\n",
    "    def parent(self, i):\n",
    "        return int((i - 1) / 2)\n",
    "\n",
    "    def child_left(self, i):\n",
    "        return i*2 + 1\n",
    "\n",
    "    def child_right(self, i):\n",
    "        return i*2 + 2\n",
    "    \n",
    "    def index(self, state):\n",
    "        for position, grid in enumerate([n.state for n in self.contents]):\n",
    "            if np.array_equal(state, grid):\n",
    "                return position\n",
    "        \n",
    "        return None\n",
    "\n",
    "    def swap_nodes(self, i, j):\n",
    "        temp = self.contents[i]\n",
    "        self.contents[i] = self.contents[j]\n",
    "        self.contents[j] = temp\n",
    "\n",
    "    def min_heapify(self, i):\n",
    "        l = self.child_left(i)\n",
    "        r = self.child_right(i)\n",
    "\n",
    "        minimum = i\n",
    "\n",
    "        if l < self.size and self.contents[i].f > self.contents[l].f:\n",
    "            minimum = l\n",
    "\n",
    "        if r < self.size and self.contents[minimum].f > self.contents[r].f:\n",
    "            minimum = r\n",
    "\n",
    "        if minimum != i:\n",
    "            self.swap_nodes(i, minimum)\n",
    "            self.min_heapify(minimum)\n",
    "\n",
    "    def insert_node(self, i, node):\n",
    "        if self.capacity == self.size:\n",
    "            self.contents.append(node)\n",
    "            self.capacity += 1\n",
    "        else:\n",
    "            self.contents[i] = node\n",
    "        \n",
    "        while i > 0 and self.contents[self.parent(i)].f > self.contents[i].f:\n",
    "            self.swap_nodes(i, self.parent(i))\n",
    "            i = self.parent(i)\n",
    "\n",
    "    def list_nodes(self):\n",
    "        return self.contents[:self.size]"
   ]
  },
  {
   "cell_type": "code",
   "execution_count": 7,
   "id": "917b1401-8479-48a6-845c-5102f66a56a6",
   "metadata": {},
   "outputs": [],
   "source": [
    "class PriorityQueue:\n",
    "    def __init__(self):\n",
    "        self.heap = MinHeap()\n",
    "        \n",
    "    def __getitem__(self, idx):\n",
    "        return self.heap[idx]\n",
    "\n",
    "    def index(self, node):\n",
    "        return self.heap.index(node.state)\n",
    "\n",
    "    def add(self, node):\n",
    "        self.heap.add(node)\n",
    "        \n",
    "    def remove(self, node):\n",
    "        self.heap.remove(self.index(node))\n",
    "\n",
    "    def remove_idx(self, idx):\n",
    "        self.heap.remove(idx)\n",
    "\n",
    "    def remove_min(self):\n",
    "        return self.heap.remove_min()\n",
    "\n",
    "    @property\n",
    "    def list_nodes(self):\n",
    "        return self.heap.list_nodes()"
   ]
  },
  {
   "cell_type": "markdown",
   "id": "250a4633",
   "metadata": {
    "jp-MarkdownHeadingCollapsed": true
   },
   "source": [
    "## A*"
   ]
  },
  {
   "cell_type": "markdown",
   "id": "d553660a",
   "metadata": {
    "jp-MarkdownHeadingCollapsed": true
   },
   "source": [
    "### GRAPH-SEARCH"
   ]
  },
  {
   "cell_type": "markdown",
   "id": "a4efbd01-1a77-4a8e-93e2-61e598b92650",
   "metadata": {},
   "source": [
    "Constants for current search status:"
   ]
  },
  {
   "cell_type": "code",
   "execution_count": 8,
   "id": "e2a29b8d-9314-4d95-9620-45d7637efc29",
   "metadata": {},
   "outputs": [],
   "source": [
    "SEARCH_NOT_STARTED = 0\n",
    "SEARCH_STARTED = 1\n",
    "SEARCH_FAIL = 2\n",
    "SEARCH_SUCCESS = 3"
   ]
  },
  {
   "cell_type": "markdown",
   "id": "74941e76-d8f7-401d-a63a-b15215aa82f7",
   "metadata": {},
   "source": [
    "Class that will implement A* graph search:"
   ]
  },
  {
   "cell_type": "code",
   "execution_count": 9,
   "id": "17f67a55",
   "metadata": {},
   "outputs": [],
   "source": [
    "class ASGS:\n",
    "    def __init__(self, problem):\n",
    "        self.problem   = problem\n",
    "        self.explored  = deque([])\n",
    "        self.frontier  = PriorityQueue()\n",
    "        self.situation = SEARCH_NOT_STARTED\n",
    "        self.solution  = None\n",
    "\n",
    "    def step_search(self):\n",
    "        # Checking three initial conditions:\n",
    "        # Root node initial check\n",
    "        # Checking if the search process failed\n",
    "        # Checking if the search was successful\n",
    "        if self.situation == SEARCH_NOT_STARTED:\n",
    "            self.frontier.add(self.problem.initial)\n",
    "            self.situation = SEARCH_STARTED\n",
    "        elif self.situation == SEARCH_FAIL:\n",
    "            print('Search process failed!')\n",
    "            return\n",
    "        elif self.situation == SEARCH_SUCCESS:\n",
    "            print('Solution already found!')\n",
    "            return\n",
    "\n",
    "        # Performing the search step\n",
    "        node = self.frontier.remove_min()\n",
    "\n",
    "        # Empty border ends the search\n",
    "        if not node:\n",
    "            self.situation = SEARCH_FAIL\n",
    "            return\n",
    "        \n",
    "        if self.problem.objective(node.state, OBJ_GRID):\n",
    "            self.solution = node.solution\n",
    "            self.situation = SEARCH_SUCCESS\n",
    "            return\n",
    "\n",
    "        self.explored.append(node.state)\n",
    "\n",
    "        for action in self.problem.actions(node.state):\n",
    "            child = Node.child(self.problem, node, action)\n",
    "            idx_frontier = self.frontier.index(child)\n",
    "\n",
    "            if idx_frontier:\n",
    "                if child.f < self.frontier[idx_frontier].f:\n",
    "                    self.frontier.remove_idx(idx_frontier)\n",
    "                    self.frontier.add(child)\n",
    "            elif not self.explored_node(child.state):                \n",
    "                self.frontier.add(child)\n",
    "\n",
    "    def search(self):\n",
    "        # Loop that performs the search\n",
    "        while self.situation == SEARCH_STARTED or self.situation == SEARCH_NOT_STARTED:\n",
    "            self.step_search()\n",
    "\n",
    "        if self.situation == SEARCH_FAIL:\n",
    "            print('Search process failed!')\n",
    "        else:\n",
    "            print('Solution found!')\n",
    "        \n",
    "    def explored_node(self, state):\n",
    "        for state_explored in self.explored:\n",
    "            if np.array_equal(state, state_explored):\n",
    "                return True\n",
    "\n",
    "        return False\n",
    "\n",
    "    @property\n",
    "    def show_solution(self):\n",
    "        if self.situation == SEARCH_SUCCESS:\n",
    "            return '\\n\\n'.join([node.__str__() for node in self.solution]) + \\\n",
    "                  f'\\nCost: {self.solution[-1].cost}'\n",
    "    \n",
    "        return 'Solution still not found!'\n",
    "\n",
    "    @property\n",
    "    def show_frontier(self):\n",
    "        return '#'*15 + '\\n' + \\\n",
    "               '\\n'.join([node.__str__() for node in self.frontier]) + \\\n",
    "               '\\n' + '#'*15\n",
    "\n",
    "    @property\n",
    "    def actions(self):\n",
    "        for action in [step.action for step in self.solution[1:]]:\n",
    "            yield action"
   ]
  },
  {
   "cell_type": "markdown",
   "id": "a0d3f903",
   "metadata": {
    "jp-MarkdownHeadingCollapsed": true
   },
   "source": [
    "### TREE-SEARCH"
   ]
  },
  {
   "cell_type": "markdown",
   "id": "56c6196a-53b0-4c3c-abbe-cdcfa2b682aa",
   "metadata": {},
   "source": [
    "Class that will implement A* tree search:"
   ]
  },
  {
   "cell_type": "code",
   "execution_count": 10,
   "id": "2c4f9561",
   "metadata": {},
   "outputs": [],
   "source": [
    "class ASTS:\n",
    "    def __init__(self, problem):\n",
    "        self.problem = problem\n",
    "        self.frontier = PriorityQueue()\n",
    "        self.situation = SEARCH_NOT_STARTED\n",
    "        self.solution = None\n",
    "\n",
    "    def step_search(self):\n",
    "        # Checking three initial conditions:\n",
    "        # Root node initial check\n",
    "        # Checking if the search process failed\n",
    "        # Checking if the search was successful\n",
    "        if self.situation == SEARCH_NOT_STARTED:\n",
    "            self.frontier.add(self.problem.initial)\n",
    "            self.situation = SEARCH_STARTED\n",
    "        elif self.situation == SEARCH_FAIL:\n",
    "            print(\"Search process failed!\")\n",
    "            return\n",
    "        elif self.situation == SEARCH_SUCCESS:\n",
    "            print(\"Solution already found!\")\n",
    "            return\n",
    "\n",
    "        # Performing the search step\n",
    "        node = self.frontier.remove_min()\n",
    "        \n",
    "        if not node:  # empty border ends the search\n",
    "            self.situation = SEARCH_FAIL\n",
    "            return\n",
    "        \n",
    "        if self.problem.objective(node.state, OBJ_GRID):\n",
    "            self.solution = node.solution\n",
    "            self.situation = SEARCH_SUCCESS\n",
    "            return\n",
    "\n",
    "        for action in self.problem.actions(node.state):\n",
    "            self.frontier.add(Node.child(self.problem, node, action))\n",
    "\n",
    "    def search(self):\n",
    "        # Loop that performs the search\n",
    "        while self.situation == SEARCH_STARTED or self.situation == SEARCH_NOT_STARTED:\n",
    "            self.step_search()\n",
    "\n",
    "        if self.situation == SEARCH_FAIL:\n",
    "            print('Search process failed!')\n",
    "        else:\n",
    "            print('Solution found!')\n",
    "        \n",
    "    @property\n",
    "    def show_solution(self):\n",
    "        if self.situation == SEARCH_SUCCESS:\n",
    "            return '\\n\\n'.join([node.__str__() for node in self.solution]) + \\\n",
    "                  f'\\nCost: {self.solution[-1].cost}'\n",
    "    \n",
    "        return 'Solution still not found!'\n",
    "\n",
    "    @property\n",
    "    def show_frontier(self):\n",
    "        return '#'*15 + '\\n' + \\\n",
    "               '\\n'.join([node.__str__() for node in self.frontier]) + \\\n",
    "               '\\n' + '#'*15\n",
    "    \n",
    "    @property\n",
    "    def actions(self):\n",
    "        for action in [step.action for step in self.solution[1:]]:\n",
    "            yield action"
   ]
  },
  {
   "cell_type": "markdown",
   "id": "1003897c",
   "metadata": {},
   "source": [
    "## TESTING THE DIFFERENT SEARCHES"
   ]
  },
  {
   "cell_type": "markdown",
   "id": "52a85002-710d-4db1-9dca-42916f23da9f",
   "metadata": {
    "jp-MarkdownHeadingCollapsed": true
   },
   "source": [
    "### VERIFYING THE RESULT FOR SMALLER INSTANCE"
   ]
  },
  {
   "cell_type": "code",
   "execution_count": 11,
   "id": "3c1cbff3",
   "metadata": {},
   "outputs": [
    {
     "name": "stdout",
     "output_type": "stream",
     "text": [
      "Solution found!\n",
      "3  2  7\n",
      "\n",
      "4  8  1  >>>  0\n",
      "\n",
      "6  5  0\n",
      "\n",
      "3  2  7\n",
      "\n",
      "4  8  1  >>>  1\n",
      "\n",
      "6  0  5\n",
      "\n",
      "3  2  7\n",
      "\n",
      "4  0  1  >>>  2\n",
      "\n",
      "6  8  5\n",
      "\n",
      "3  2  7\n",
      "\n",
      "4  1  0  >>>  3\n",
      "\n",
      "6  8  5\n",
      "\n",
      "3  2  0\n",
      "\n",
      "4  1  7  >>>  4\n",
      "\n",
      "6  8  5\n",
      "\n",
      "3  0  2\n",
      "\n",
      "4  1  7  >>>  5\n",
      "\n",
      "6  8  5\n",
      "\n",
      "3  1  2\n",
      "\n",
      "4  0  7  >>>  6\n",
      "\n",
      "6  8  5\n",
      "\n",
      "3  1  2\n",
      "\n",
      "4  7  0  >>>  7\n",
      "\n",
      "6  8  5\n",
      "\n",
      "3  1  2\n",
      "\n",
      "4  7  5  >>>  8\n",
      "\n",
      "6  8  0\n",
      "\n",
      "3  1  2\n",
      "\n",
      "4  7  5  >>>  9\n",
      "\n",
      "6  0  8\n",
      "\n",
      "3  1  2\n",
      "\n",
      "4  0  5  >>>  10\n",
      "\n",
      "6  7  8\n",
      "\n",
      "3  1  2\n",
      "\n",
      "0  4  5  >>>  11\n",
      "\n",
      "6  7  8\n",
      "\n",
      "0  1  2\n",
      "\n",
      "3  4  5  >>>  12\n",
      "\n",
      "6  7  8\n",
      "Cost: 12\n"
     ]
    }
   ],
   "source": [
    "a_star_graph = ASGS(puzzle_12_steps)\n",
    "a_star_graph.search()\n",
    "\n",
    "print(a_star_graph.show_solution)"
   ]
  },
  {
   "cell_type": "code",
   "execution_count": 12,
   "id": "893e2e84-15e1-4ef8-aabe-eb7db77bc7f1",
   "metadata": {},
   "outputs": [
    {
     "name": "stdout",
     "output_type": "stream",
     "text": [
      "Solution found!\n",
      "3  2  7\n",
      "\n",
      "4  8  1  >>>  0\n",
      "\n",
      "6  5  0\n",
      "\n",
      "3  2  7\n",
      "\n",
      "4  8  1  >>>  1\n",
      "\n",
      "6  0  5\n",
      "\n",
      "3  2  7\n",
      "\n",
      "4  0  1  >>>  2\n",
      "\n",
      "6  8  5\n",
      "\n",
      "3  2  7\n",
      "\n",
      "4  1  0  >>>  3\n",
      "\n",
      "6  8  5\n",
      "\n",
      "3  2  0\n",
      "\n",
      "4  1  7  >>>  4\n",
      "\n",
      "6  8  5\n",
      "\n",
      "3  0  2\n",
      "\n",
      "4  1  7  >>>  5\n",
      "\n",
      "6  8  5\n",
      "\n",
      "3  1  2\n",
      "\n",
      "4  0  7  >>>  6\n",
      "\n",
      "6  8  5\n",
      "\n",
      "3  1  2\n",
      "\n",
      "4  7  0  >>>  7\n",
      "\n",
      "6  8  5\n",
      "\n",
      "3  1  2\n",
      "\n",
      "4  7  5  >>>  8\n",
      "\n",
      "6  8  0\n",
      "\n",
      "3  1  2\n",
      "\n",
      "4  7  5  >>>  9\n",
      "\n",
      "6  0  8\n",
      "\n",
      "3  1  2\n",
      "\n",
      "4  0  5  >>>  10\n",
      "\n",
      "6  7  8\n",
      "\n",
      "3  1  2\n",
      "\n",
      "0  4  5  >>>  11\n",
      "\n",
      "6  7  8\n",
      "\n",
      "0  1  2\n",
      "\n",
      "3  4  5  >>>  12\n",
      "\n",
      "6  7  8\n",
      "Cost: 12\n"
     ]
    }
   ],
   "source": [
    "a_star_tree = ASTS(puzzle_12_steps)\n",
    "a_star_tree.search()\n",
    "\n",
    "print(a_star_tree.show_solution)"
   ]
  },
  {
   "cell_type": "markdown",
   "id": "b301033e-eeda-443c-b6b7-398e5adf2f4a",
   "metadata": {},
   "source": [
    "### EVALUATING THE EFFICIENCY"
   ]
  },
  {
   "cell_type": "markdown",
   "id": "6806ddef-4d3c-4b71-9cf2-345161cc7fe3",
   "metadata": {},
   "source": [
    "Collecting information from search runs:"
   ]
  },
  {
   "cell_type": "code",
   "execution_count": 13,
   "id": "d7656811-71ad-4f67-a5ec-6288ec22102b",
   "metadata": {},
   "outputs": [
    {
     "name": "stdout",
     "output_type": "stream",
     "text": [
      "Solution found!\n",
      "Solution found!\n",
      "Solution found!\n",
      "Solution found!\n",
      "Solution found!\n",
      "Solution found!\n",
      "Solution found!\n",
      "Solution found!\n",
      "Solution found!\n",
      "Solution found!\n"
     ]
    }
   ],
   "source": [
    "data = {'steps' : [],\n",
    "        'asgs'  : [],\n",
    "        'asts'  : []}\n",
    "\n",
    "def run_search(steps, instance):\n",
    "    start_graph = time()\n",
    "    a_star_graph = ASGS(instance)\n",
    "    a_star_graph.search()\n",
    "    time_graph = time() - start_graph\n",
    "    \n",
    "    start_tree = time()\n",
    "    a_star_tree = ASTS(instance)\n",
    "    a_star_tree.search()\n",
    "    time_tree = time() - start_tree\n",
    "    \n",
    "    data['steps'].append(steps)\n",
    "    data['asgs'].append(time_graph)\n",
    "    data['asts'].append(time_tree)\n",
    "\n",
    "run_search(12, puzzle_12_steps)\n",
    "run_search(13, puzzle_13_steps)\n",
    "run_search(14, puzzle_14_steps)\n",
    "run_search(23, puzzle_23_steps)\n",
    "run_search(26, puzzle_26_steps)"
   ]
  },
  {
   "cell_type": "markdown",
   "id": "ff953513-fc70-4e1c-aba8-6aac4132e4fd",
   "metadata": {},
   "source": [
    "Viewing the collected results:"
   ]
  },
  {
   "cell_type": "code",
   "execution_count": 14,
   "id": "12238dbd-4749-47d0-a8e2-821e3dbfca89",
   "metadata": {},
   "outputs": [
    {
     "data": {
      "text/html": [
       "<div>\n",
       "<style scoped>\n",
       "    .dataframe tbody tr th:only-of-type {\n",
       "        vertical-align: middle;\n",
       "    }\n",
       "\n",
       "    .dataframe tbody tr th {\n",
       "        vertical-align: top;\n",
       "    }\n",
       "\n",
       "    .dataframe thead th {\n",
       "        text-align: right;\n",
       "    }\n",
       "</style>\n",
       "<table border=\"1\" class=\"dataframe\">\n",
       "  <thead>\n",
       "    <tr style=\"text-align: right;\">\n",
       "      <th></th>\n",
       "      <th>steps</th>\n",
       "      <th>asgs</th>\n",
       "      <th>asts</th>\n",
       "    </tr>\n",
       "  </thead>\n",
       "  <tbody>\n",
       "    <tr>\n",
       "      <th>0</th>\n",
       "      <td>12</td>\n",
       "      <td>0.007</td>\n",
       "      <td>0.006</td>\n",
       "    </tr>\n",
       "    <tr>\n",
       "      <th>1</th>\n",
       "      <td>13</td>\n",
       "      <td>0.011</td>\n",
       "      <td>0.005</td>\n",
       "    </tr>\n",
       "    <tr>\n",
       "      <th>2</th>\n",
       "      <td>14</td>\n",
       "      <td>0.020</td>\n",
       "      <td>0.000</td>\n",
       "    </tr>\n",
       "    <tr>\n",
       "      <th>3</th>\n",
       "      <td>23</td>\n",
       "      <td>5.546</td>\n",
       "      <td>12.163</td>\n",
       "    </tr>\n",
       "    <tr>\n",
       "      <th>4</th>\n",
       "      <td>26</td>\n",
       "      <td>20.446</td>\n",
       "      <td>33.518</td>\n",
       "    </tr>\n",
       "  </tbody>\n",
       "</table>\n",
       "</div>"
      ],
      "text/plain": [
       "   steps    asgs    asts\n",
       "0     12   0.007   0.006\n",
       "1     13   0.011   0.005\n",
       "2     14   0.020   0.000\n",
       "3     23   5.546  12.163\n",
       "4     26  20.446  33.518"
      ]
     },
     "execution_count": 14,
     "metadata": {},
     "output_type": "execute_result"
    }
   ],
   "source": [
    "data = pd.DataFrame(data)\n",
    "data.round(3)"
   ]
  },
  {
   "cell_type": "code",
   "execution_count": 15,
   "id": "63b7b6d1-b39c-416f-936a-31ee1d6ff8f2",
   "metadata": {},
   "outputs": [
    {
     "data": {
      "image/png": "[encoded data removed]",
      "text/plain": [
       "<Figure size 640x480 with 1 Axes>"
      ]
     },
     "metadata": {},
     "output_type": "display_data"
    }
   ],
   "source": [
    "sns.set(style=\"whitegrid\")\n",
    "\n",
    "sns.lineplot(x='steps', y='asgs', data=data.iloc[:3], label='Graph Search')\n",
    "sns.lineplot(x='steps', y='asts', data=data.iloc[:3], label='Tree Search')\n",
    "\n",
    "plt.xlabel('Steps')\n",
    "plt.ylabel('Time')\n",
    "plt.title('Comparison of Search Methods (Smaller Instances)')\n",
    "plt.legend()\n",
    "\n",
    "plt.show()"
   ]
  },
  {
   "cell_type": "code",
   "execution_count": 16,
   "id": "077ded7b-df58-4c6c-a984-444a2036cf1d",
   "metadata": {},
   "outputs": [
    {
     "data": {
      "image/png": "[encoded data removed]",
      "text/plain": [
       "<Figure size 640x480 with 1 Axes>"
      ]
     },
     "metadata": {},
     "output_type": "display_data"
    }
   ],
   "source": [
    "sns.set(style=\"whitegrid\")\n",
    "\n",
    "sns.lineplot(x='steps', y='asgs', data=data, label='Graph Search')\n",
    "sns.lineplot(x='steps', y='asts', data=data, label='Tree Search')\n",
    "\n",
    "plt.xlabel('Steps')\n",
    "plt.ylabel('Time')\n",
    "plt.title('Comparison of Search Methods (Larger Instances)')\n",
    "plt.legend()\n",
    "\n",
    "plt.show()"
   ]
  }
 ],
 "metadata": {
  "kernelspec": {
   "display_name": "Python 3 (ipykernel)",
   "language": "python",
   "name": "python3"
  },
  "language_info": {
   "codemirror_mode": {
    "name": "ipython",
    "version": 3
   },
   "file_extension": ".py",
   "mimetype": "text/x-python",
   "name": "python",
   "nbconvert_exporter": "python",
   "pygments_lexer": "ipython3",
   "version": "3.11.4"
  }
 },
 "nbformat": 4,
 "nbformat_minor": 5
}
