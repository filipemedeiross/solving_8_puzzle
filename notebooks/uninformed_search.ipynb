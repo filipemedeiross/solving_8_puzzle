{
 "cells": [
  {
   "cell_type": "markdown",
   "metadata": {
    "id": "ZH2er6t_z_mt"
   },
   "source": [
    "# THE 8-PUZZLE"
   ]
  },
  {
   "cell_type": "markdown",
   "metadata": {
    "id": "pMs-CuWJ6aPC",
    "jp-MarkdownHeadingCollapsed": true
   },
   "source": [
    "## STANDARD FORMULATION"
   ]
  },
  {
   "cell_type": "markdown",
   "metadata": {},
   "source": [
    "Including path to previous directory in built-in variable `sys.path`:"
   ]
  },
  {
   "cell_type": "code",
   "execution_count": 1,
   "metadata": {},
   "outputs": [],
   "source": [
    "import sys\n",
    "\n",
    "sys.path.append('../')"
   ]
  },
  {
   "cell_type": "markdown",
   "metadata": {},
   "source": [
    "Importing the standard formulation:"
   ]
  },
  {
   "cell_type": "code",
   "execution_count": 2,
   "metadata": {},
   "outputs": [
    {
     "name": "stdout",
     "output_type": "stream",
     "text": [
      "pygame 2.5.2 (SDL 2.28.3, Python 3.11.4)\n",
      "Hello from the pygame community. https://www.pygame.org/contribute.html\n"
     ]
    }
   ],
   "source": [
    "import numpy as np\n",
    "from collections import deque\n",
    "from puzzle import formulations"
   ]
  },
  {
   "cell_type": "markdown",
   "metadata": {},
   "source": [
    "Class with a search problem:"
   ]
  },
  {
   "cell_type": "code",
   "execution_count": 3,
   "metadata": {},
   "outputs": [],
   "source": [
    "class Problem:\n",
    "    def __init__(self, initial, objective, actions, result):\n",
    "        self.initial = initial\n",
    "        self.objective = objective\n",
    "        self.actions = actions\n",
    "        self.result = result  # defines the transition model"
   ]
  },
  {
   "cell_type": "markdown",
   "metadata": {},
   "source": [
    "Class with a tree node:"
   ]
  },
  {
   "cell_type": "code",
   "execution_count": 4,
   "metadata": {},
   "outputs": [],
   "source": [
    "class Node:\n",
    "    def __init__(self, state, cost, parent, action):\n",
    "        self.state = state\n",
    "        self.cost = cost\n",
    "        self.parent = parent\n",
    "        self.action = action\n",
    "\n",
    "    def __str__(self):  # representing the node\n",
    "        return '\\n\\n'.join(['  '.join(map(str, grid)) for grid in self.state[0:2]]) + \\\n",
    "               '  >>>  ' + str(self.cost) + '\\n\\n' + \\\n",
    "               '\\n\\n'.join(['  '.join(map(str, grid)) for grid in self.state[2:]])\n",
    "\n",
    "    @classmethod\n",
    "    def child(cls, problem, parent, action):\n",
    "        state = problem.result(parent.state, action)\n",
    "    \n",
    "        return cls(state, parent.cost + 1, parent, action)\n",
    "\n",
    "    @property\n",
    "    def hash(self):\n",
    "        return np.array2string(self.state)\n",
    "\n",
    "    @property\n",
    "    def solution(self):\n",
    "        node = self;\n",
    "        solution = []\n",
    "\n",
    "        while node:\n",
    "            solution.append(node)\n",
    "            node = node.parent\n",
    "\n",
    "        solution.reverse()\n",
    "\n",
    "        return solution"
   ]
  },
  {
   "cell_type": "markdown",
   "metadata": {},
   "source": [
    "Defining the constants and creating new instances of the problem:"
   ]
  },
  {
   "cell_type": "code",
   "execution_count": 5,
   "metadata": {},
   "outputs": [
    {
     "name": "stdout",
     "output_type": "stream",
     "text": [
      "3  2  7\n",
      "\n",
      "4  8  1  >>>  0\n",
      "\n",
      "6  5  0\n",
      "=======\n",
      "3  2  7\n",
      "\n",
      "4  8  0  >>>  0\n",
      "\n",
      "6  5  1\n",
      "=======\n",
      "3  2  0\n",
      "\n",
      "4  8  7  >>>  0\n",
      "\n",
      "6  5  1\n",
      "=======\n",
      "2  6  1\n",
      "\n",
      "7  5  0  >>>  0\n",
      "\n",
      "8  3  4\n"
     ]
    }
   ],
   "source": [
    "N = 3\n",
    "OBJ_GRID = np.arange(N**2, dtype='int8').reshape((N, N))\n",
    "\n",
    "\n",
    "grid1 = np.array([[3, 2, 7],\n",
    "                  [4, 8, 1],\n",
    "                  [6, 5, 0]])\n",
    "\n",
    "grid2 = np.array([[3, 2, 7],\n",
    "                  [4, 8, 0],\n",
    "                  [6, 5, 1]])\n",
    "\n",
    "grid3 = np.array([[3, 2, 0],\n",
    "                  [4, 8, 7],\n",
    "                  [6, 5, 1]])\n",
    "\n",
    "grid4 = np.array([[2, 6, 1],\n",
    "                  [7, 5, 0],\n",
    "                  [8, 3, 4]])\n",
    "\n",
    "puzzle_12_steps = Problem(Node(grid1, 0, None, None), formulations.won_comp,\n",
    "                          formulations.available_moves_search, formulations.move_grid)\n",
    "\n",
    "puzzle_13_steps = Problem(Node(grid2, 0, None, None), formulations.won_comp,\n",
    "                          formulations.available_moves_search, formulations.move_grid)\n",
    "\n",
    "puzzle_14_steps = Problem(Node(grid3, 0, None, None), formulations.won_comp,\n",
    "                          formulations.available_moves_search, formulations.move_grid)\n",
    "\n",
    "puzzle_23_steps = Problem(Node(grid4, 0, None, None), formulations.won_comp,\n",
    "                          formulations.available_moves_search, formulations.move_grid)\n",
    "\n",
    "print(puzzle_12_steps.initial)\n",
    "print('=' * 7)\n",
    "print(puzzle_13_steps.initial)\n",
    "print('=' * 7)\n",
    "print(puzzle_14_steps.initial)\n",
    "print('=' * 7)\n",
    "print(puzzle_23_steps.initial)"
   ]
  },
  {
   "cell_type": "markdown",
   "metadata": {
    "id": "n2awg2BNvVpp",
    "jp-MarkdownHeadingCollapsed": true
   },
   "source": [
    "## BREADTH-FIRST SEARCH"
   ]
  },
  {
   "cell_type": "markdown",
   "metadata": {},
   "source": [
    "Constants for current search status:"
   ]
  },
  {
   "cell_type": "code",
   "execution_count": 6,
   "metadata": {},
   "outputs": [],
   "source": [
    "SEARCH_NOT_STARTED = 0\n",
    "SEARCH_STARTED = 1\n",
    "SEARCH_FAIL = 2\n",
    "SEARCH_SUCCESS = 3"
   ]
  },
  {
   "cell_type": "markdown",
   "metadata": {},
   "source": [
    "Class that will implement breadth-first search:"
   ]
  },
  {
   "cell_type": "code",
   "execution_count": 7,
   "metadata": {
    "id": "m7KWH-N9vBrA"
   },
   "outputs": [],
   "source": [
    "class BFS:\n",
    "    def __init__(self, problem):\n",
    "        self.problem   = problem\n",
    "        self.explored  = set()\n",
    "        self.frontier  = deque([])\n",
    "        self.situation = SEARCH_NOT_STARTED\n",
    "        self.solution  = None\n",
    "\n",
    "    def step_search(self):\n",
    "        # Empty border ends the search\n",
    "        if not self.frontier:\n",
    "            self.situation = SEARCH_FAIL\n",
    "            return\n",
    "\n",
    "        # Performing the search step\n",
    "        node = self.frontier.popleft()\n",
    "\n",
    "        if self.problem.objective(node.state, OBJ_GRID):\n",
    "            self.solution = node.solution\n",
    "            self.situation = SEARCH_SUCCESS\n",
    "            return\n",
    "\n",
    "        self.explored.add(node.hash)\n",
    "\n",
    "        for action in self.problem.actions(node.state, node.action):\n",
    "            child = Node.child(self.problem, node, action)\n",
    "            \n",
    "            if child not in self.frontier and not child.hash in self.explored:                \n",
    "                self.frontier.append(child)\n",
    "\n",
    "    def search(self):\n",
    "        if self.situation == SEARCH_NOT_STARTED:\n",
    "            self.frontier.append(self.problem.initial)\n",
    "            self.situation = SEARCH_STARTED\n",
    "        elif self.situation == SEARCH_FAIL:\n",
    "            print(\"Search process failed!\")\n",
    "            return\n",
    "        elif self.situation == SEARCH_SUCCESS:\n",
    "            print(\"Solution already found!\")\n",
    "            return\n",
    "\n",
    "        # Loop that performs breadth-first search\n",
    "        while self.situation == SEARCH_STARTED:\n",
    "            self.step_search()\n",
    "\n",
    "        if self.situation == SEARCH_FAIL:\n",
    "            print('Search process failed!')\n",
    "        else:\n",
    "            print('Solution found!')\n",
    "\n",
    "    @property\n",
    "    def show_solution(self):\n",
    "        if self.situation == SEARCH_SUCCESS:\n",
    "            return '\\n\\n'.join([node.__str__() for node in self.solution]) + \\\n",
    "                  f'\\n\\nCost: {self.solution[-1].cost}'\n",
    "    \n",
    "        return 'Solution still not found!'\n",
    "\n",
    "    @property\n",
    "    def show_frontier(self):\n",
    "        return '#'*15 + '\\n' + \\\n",
    "               '\\n'.join([node.__str__() for node in self.frontier]) + \\\n",
    "               '\\n' + '#'*15"
   ]
  },
  {
   "cell_type": "markdown",
   "metadata": {},
   "source": [
    "Testing the efficiency of the breadth-first search:"
   ]
  },
  {
   "cell_type": "code",
   "execution_count": 8,
   "metadata": {},
   "outputs": [
    {
     "name": "stdout",
     "output_type": "stream",
     "text": [
      "Solution found!\n",
      "CPU times: total: 281 ms\n",
      "Wall time: 361 ms\n"
     ]
    }
   ],
   "source": [
    "%%time\n",
    "\n",
    "bfs = BFS(puzzle_12_steps)\n",
    "bfs.search()"
   ]
  },
  {
   "cell_type": "code",
   "execution_count": 9,
   "metadata": {},
   "outputs": [
    {
     "name": "stdout",
     "output_type": "stream",
     "text": [
      "Solution found!\n",
      "CPU times: total: 375 ms\n",
      "Wall time: 823 ms\n"
     ]
    }
   ],
   "source": [
    "%%time\n",
    "\n",
    "bfs = BFS(puzzle_13_steps)\n",
    "bfs.search()"
   ]
  },
  {
   "cell_type": "code",
   "execution_count": 10,
   "metadata": {},
   "outputs": [
    {
     "name": "stdout",
     "output_type": "stream",
     "text": [
      "Solution found!\n",
      "CPU times: total: 406 ms\n",
      "Wall time: 1.37 s\n"
     ]
    }
   ],
   "source": [
    "%%time\n",
    "\n",
    "bfs = BFS(puzzle_14_steps)\n",
    "bfs.search()"
   ]
  },
  {
   "cell_type": "markdown",
   "metadata": {},
   "source": [
    "Breadth-first search via function:"
   ]
  },
  {
   "cell_type": "code",
   "execution_count": 11,
   "metadata": {},
   "outputs": [],
   "source": [
    "def bfs(problem):\n",
    "    node = problem.initial\n",
    "    \n",
    "    if problem.objective(node.state, OBJ_GRID):\n",
    "        return node.solution\n",
    "\n",
    "    explored = set()\n",
    "    frontier = deque([node])\n",
    "    \n",
    "    while True:\n",
    "        if not frontier:\n",
    "            print(\"Search process failed!\")\n",
    "            return None\n",
    "\n",
    "        # Performing the search step\n",
    "        node = frontier.popleft()\n",
    "        \n",
    "        explored.add(node.hash)\n",
    "        \n",
    "        for action in problem.actions(node.state, node.action):\n",
    "            child = Node.child(problem, node, action)\n",
    "\n",
    "            if child not in frontier and not child.hash in explored:\n",
    "                if problem.objective(child.state, OBJ_GRID):\n",
    "                    print(\"Solution found!\")\n",
    "                    return child.solution\n",
    "\n",
    "                frontier.append(child)\n",
    "\n",
    "def show_solution(solution):\n",
    "    print('\\n\\n'.join([node.__str__() for node in solution]) + \\\n",
    "         f'\\n\\nCost: {solution[-1].cost}')"
   ]
  },
  {
   "cell_type": "markdown",
   "metadata": {},
   "source": [
    "Checking the efficiency:"
   ]
  },
  {
   "cell_type": "code",
   "execution_count": 12,
   "metadata": {},
   "outputs": [
    {
     "name": "stdout",
     "output_type": "stream",
     "text": [
      "Solution found!\n",
      "CPU times: total: 109 ms\n",
      "Wall time: 216 ms\n"
     ]
    }
   ],
   "source": [
    "%%time\n",
    "\n",
    "_ = bfs(puzzle_12_steps)"
   ]
  },
  {
   "cell_type": "code",
   "execution_count": 13,
   "metadata": {},
   "outputs": [
    {
     "name": "stdout",
     "output_type": "stream",
     "text": [
      "Solution found!\n",
      "CPU times: total: 203 ms\n",
      "Wall time: 525 ms\n"
     ]
    }
   ],
   "source": [
    "%%time\n",
    "\n",
    "_ = bfs(puzzle_13_steps)"
   ]
  },
  {
   "cell_type": "code",
   "execution_count": 14,
   "metadata": {},
   "outputs": [
    {
     "name": "stdout",
     "output_type": "stream",
     "text": [
      "Solution found!\n",
      "CPU times: total: 375 ms\n",
      "Wall time: 830 ms\n"
     ]
    }
   ],
   "source": [
    "%%time\n",
    "\n",
    "_ = bfs(puzzle_14_steps)"
   ]
  },
  {
   "cell_type": "markdown",
   "metadata": {
    "jp-MarkdownHeadingCollapsed": true
   },
   "source": [
    "## BACKTRACKING SEARCH"
   ]
  },
  {
   "cell_type": "code",
   "execution_count": 15,
   "metadata": {},
   "outputs": [],
   "source": [
    "reverse_state = {'l': 'r',\n",
    "                 'r': 'l',\n",
    "                 'd': 'u',\n",
    "                 'u': 'd'}\n",
    "\n",
    "def backtracking(problem, limit):\n",
    "    solution = np.array([None for i in range(limit+1)])\n",
    "    \n",
    "    size = 0\n",
    "    solution[size] = (problem.initial.state,\n",
    "                      problem.actions(problem.initial.state, None))\n",
    "    \n",
    "    while not problem.objective(solution[size][0], OBJ_GRID):        \n",
    "        if size == limit:\n",
    "            size -= 1\n",
    "            \n",
    "            while not solution[size][1]:\n",
    "                size -= 1\n",
    "                \n",
    "                if size == -1:\n",
    "                    return None\n",
    "\n",
    "        action = solution[size][1].pop()\n",
    "        \n",
    "        state = problem.result(solution[size][0], action)\n",
    "        size += 1\n",
    "        solution[size] = (state, problem.actions(state, action))\n",
    "    \n",
    "    return solution"
   ]
  },
  {
   "cell_type": "markdown",
   "metadata": {},
   "source": [
    "Testing backtracking search:"
   ]
  },
  {
   "cell_type": "code",
   "execution_count": 16,
   "metadata": {},
   "outputs": [
    {
     "name": "stdout",
     "output_type": "stream",
     "text": [
      "CPU times: total: 0 ns\n",
      "Wall time: 15.6 ms\n"
     ]
    },
    {
     "data": {
      "text/plain": [
       "13"
      ]
     },
     "execution_count": 16,
     "metadata": {},
     "output_type": "execute_result"
    }
   ],
   "source": [
    "%%time\n",
    "\n",
    "solution = backtracking(puzzle_12_steps, 12)\n",
    "\n",
    "len(solution)"
   ]
  },
  {
   "cell_type": "code",
   "execution_count": 17,
   "metadata": {},
   "outputs": [
    {
     "name": "stdout",
     "output_type": "stream",
     "text": [
      "CPU times: total: 15.6 ms\n",
      "Wall time: 15.6 ms\n"
     ]
    },
    {
     "data": {
      "text/plain": [
       "14"
      ]
     },
     "execution_count": 17,
     "metadata": {},
     "output_type": "execute_result"
    }
   ],
   "source": [
    "%%time\n",
    "\n",
    "solution = backtracking(puzzle_13_steps, 13)\n",
    "\n",
    "len(solution)"
   ]
  },
  {
   "cell_type": "code",
   "execution_count": 18,
   "metadata": {},
   "outputs": [
    {
     "name": "stdout",
     "output_type": "stream",
     "text": [
      "CPU times: total: 0 ns\n",
      "Wall time: 16 ms\n"
     ]
    },
    {
     "data": {
      "text/plain": [
       "15"
      ]
     },
     "execution_count": 18,
     "metadata": {},
     "output_type": "execute_result"
    }
   ],
   "source": [
    "%%time\n",
    "\n",
    "solution = backtracking(puzzle_14_steps, 14)\n",
    "\n",
    "len(solution)"
   ]
  },
  {
   "cell_type": "code",
   "execution_count": 19,
   "metadata": {},
   "outputs": [
    {
     "name": "stdout",
     "output_type": "stream",
     "text": [
      "CPU times: total: 13.2 s\n",
      "Wall time: 27.9 s\n"
     ]
    },
    {
     "data": {
      "text/plain": [
       "24"
      ]
     },
     "execution_count": 19,
     "metadata": {},
     "output_type": "execute_result"
    }
   ],
   "source": [
    "%%time\n",
    "\n",
    "solution = backtracking(puzzle_23_steps, 23)\n",
    "\n",
    "len(solution)"
   ]
  }
 ],
 "metadata": {
  "colab": {
   "collapsed_sections": [],
   "name": "search_algorithms.ipynb",
   "provenance": []
  },
  "kernelspec": {
   "display_name": "Python 3 (ipykernel)",
   "language": "python",
   "name": "python3"
  },
  "language_info": {
   "codemirror_mode": {
    "name": "ipython",
    "version": 3
   },
   "file_extension": ".py",
   "mimetype": "text/x-python",
   "name": "python",
   "nbconvert_exporter": "python",
   "pygments_lexer": "ipython3",
   "version": "3.11.4"
  }
 },
 "nbformat": 4,
 "nbformat_minor": 4
}
