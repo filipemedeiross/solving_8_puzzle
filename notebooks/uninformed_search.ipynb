{
 "cells": [
  {
   "cell_type": "markdown",
   "metadata": {
    "id": "ZH2er6t_z_mt"
   },
   "source": [
    "# THE 8-PUZZLE"
   ]
  },
  {
   "cell_type": "markdown",
   "metadata": {
    "id": "pMs-CuWJ6aPC",
    "jp-MarkdownHeadingCollapsed": true
   },
   "source": [
    "## STANDARD FORMULATION"
   ]
  },
  {
   "cell_type": "markdown",
   "metadata": {},
   "source": [
    "Including path to previous directory in built-in variable `sys.path`:"
   ]
  },
  {
   "cell_type": "code",
   "execution_count": 1,
   "metadata": {},
   "outputs": [],
   "source": [
    "import sys\n",
    "\n",
    "sys.path.append('../')"
   ]
  },
  {
   "cell_type": "markdown",
   "metadata": {},
   "source": [
    "Importing the standard formulation:"
   ]
  },
  {
   "cell_type": "code",
   "execution_count": 2,
   "metadata": {},
   "outputs": [],
   "source": [
    "import numpy as np\n",
    "from collections import deque\n",
    "from puzzle import formulations"
   ]
  },
  {
   "cell_type": "markdown",
   "metadata": {},
   "source": [
    "Class with a search problem:"
   ]
  },
  {
   "cell_type": "code",
   "execution_count": 3,
   "metadata": {},
   "outputs": [],
   "source": [
    "class Problem:\n",
    "    def __init__(self, initial, objective, actions, result):\n",
    "        self.initial = initial\n",
    "        self.objective = objective\n",
    "        self.actions = actions\n",
    "        self.result = result  # defines the transition model"
   ]
  },
  {
   "cell_type": "markdown",
   "metadata": {},
   "source": [
    "Class with a tree node:"
   ]
  },
  {
   "cell_type": "code",
   "execution_count": 4,
   "metadata": {},
   "outputs": [],
   "source": [
    "class Node:\n",
    "    def __init__(self, state, cost, parent, action):\n",
    "        self.state = state\n",
    "        self.cost = cost\n",
    "        self.parent = parent\n",
    "        self.action = action\n",
    "\n",
    "    def __str__(self):  # representing the node\n",
    "        return '\\n\\n'.join(['  '.join(map(str, grid)) for grid in self.state[0:2]]) + \\\n",
    "               '  >>>  ' + str(self.cost) + '\\n\\n' + \\\n",
    "               '\\n\\n'.join(['  '.join(map(str, grid)) for grid in self.state[2:]])\n",
    "\n",
    "    @classmethod\n",
    "    def child(cls, problem, parent, action):\n",
    "        state = problem.result(parent.state, action)\n",
    "    \n",
    "        return cls(state, parent.cost + 1, parent, action)\n",
    "\n",
    "    @property\n",
    "    def solution(self):\n",
    "        node = self;\n",
    "        solution = []\n",
    "\n",
    "        while node:\n",
    "            solution.append(node)\n",
    "            node = node.parent\n",
    "\n",
    "        solution.reverse()\n",
    "\n",
    "        return solution"
   ]
  },
  {
   "cell_type": "markdown",
   "metadata": {},
   "source": [
    "Creating new instances of the problem:"
   ]
  },
  {
   "cell_type": "code",
   "execution_count": 5,
   "metadata": {},
   "outputs": [],
   "source": [
    "grid1 = np.array([[3, 2, 7],\n",
    "                  [4, 8, 1],\n",
    "                  [6, 5, 0]])\n",
    "grid2 = np.array([[3, 2, 7],\n",
    "                  [4, 8, 0],\n",
    "                  [6, 5, 1]])\n",
    "grid3 = np.array([[3, 2, 0],\n",
    "                  [4, 8, 7],\n",
    "                  [6, 5, 1]])\n",
    "\n",
    "puzzle_12_steps = Problem(Node(grid1, 0, None, None), formulations.won,\n",
    "                          formulations.available_moves, formulations.move_grid)\n",
    "\n",
    "puzzle_13_steps = Problem(Node(grid2, 0, None, None), formulations.won,\n",
    "                          formulations.available_moves, formulations.move_grid)\n",
    "\n",
    "puzzle_14_steps = Problem(Node(grid3, 0, None, None), formulations.won,\n",
    "                          formulations.available_moves, formulations.move_grid)"
   ]
  },
  {
   "cell_type": "markdown",
   "metadata": {
    "id": "n2awg2BNvVpp",
    "jp-MarkdownHeadingCollapsed": true
   },
   "source": [
    "## BREADTH-FIRST SEARCH (EFFICIENT FOR PATHS WITH UP TO 12 STEPS)"
   ]
  },
  {
   "cell_type": "markdown",
   "metadata": {},
   "source": [
    "Constants for current search status:"
   ]
  },
  {
   "cell_type": "code",
   "execution_count": 6,
   "metadata": {},
   "outputs": [],
   "source": [
    "SEARCH_NOT_STARTED = 0\n",
    "SEARCH_STARTED = 1\n",
    "SEARCH_FAIL = 2\n",
    "SEARCH_SUCCESS = 3"
   ]
  },
  {
   "cell_type": "markdown",
   "metadata": {},
   "source": [
    "Class that will implement breadth-first search:"
   ]
  },
  {
   "cell_type": "code",
   "execution_count": 7,
   "metadata": {
    "id": "m7KWH-N9vBrA"
   },
   "outputs": [],
   "source": [
    "class BFS:\n",
    "    def __init__(self, problem):\n",
    "        self.problem   = problem\n",
    "        self.explored  = deque([])\n",
    "        self.frontier  = deque([])\n",
    "        self.situation = SEARCH_NOT_STARTED\n",
    "        self.solution  = None\n",
    "\n",
    "    def step_search(self):\n",
    "        if self.situation == SEARCH_NOT_STARTED:\n",
    "            self.frontier.append(self.problem.initial)\n",
    "            self.situation = SEARCH_STARTED\n",
    "        elif self.situation == SEARCH_FAIL:\n",
    "            print(\"Search process failed!\")\n",
    "            return\n",
    "        elif self.situation == SEARCH_SUCCESS:\n",
    "            print(\"Solution already found!\")\n",
    "            return\n",
    "\n",
    "        # Empty border ends the search\n",
    "        if not self.frontier:\n",
    "            self.situation = SEARCH_FAIL\n",
    "            return\n",
    "\n",
    "        # Performing the search step\n",
    "        node = self.frontier.popleft()\n",
    "        \n",
    "        self.explored.append(node.state)\n",
    "\n",
    "        for action in self.problem.actions(node.state):\n",
    "            child = Node.child(self.problem, node, action)\n",
    "            \n",
    "            if child not in self.frontier and not self.explored_node(child.state):\n",
    "                if self.problem.objective(child.state):\n",
    "                    self.solution = child.solution\n",
    "                    self.situation = SEARCH_SUCCESS\n",
    "                    return\n",
    "                \n",
    "                self.frontier.append(child)\n",
    "\n",
    "    def search(self):\n",
    "        # Loop that performs breadth-first search\n",
    "        while self.situation == SEARCH_STARTED or self.situation == SEARCH_NOT_STARTED:\n",
    "            self.step_search()\n",
    "\n",
    "        if self.situation == SEARCH_FAIL:\n",
    "            print('Search process failed!')\n",
    "        else:\n",
    "            print('Solution found!')\n",
    "        \n",
    "    def explored_node(self, state):\n",
    "        for state_explored in self.explored:\n",
    "            if np.array_equal(state, state_explored):\n",
    "                return True\n",
    "            \n",
    "        return False\n",
    "\n",
    "    @property\n",
    "    def show_solution(self):\n",
    "        if self.situation == SEARCH_SUCCESS:\n",
    "            return '\\n\\n'.join([node.__str__() for node in self.solution]) + \\\n",
    "                  f'\\n\\nCost: {self.solution[-1].cost}'\n",
    "    \n",
    "        return 'Solution still not found!'\n",
    "\n",
    "    @property\n",
    "    def show_frontier(self):\n",
    "        return '#'*15 + '\\n' + \\\n",
    "               '\\n'.join([node.__str__() for node in self.frontier]) + \\\n",
    "               '\\n' + '#'*15"
   ]
  },
  {
   "cell_type": "markdown",
   "metadata": {},
   "source": [
    "Testing the efficiency of the breadth-first search:"
   ]
  },
  {
   "cell_type": "code",
   "execution_count": 8,
   "metadata": {},
   "outputs": [
    {
     "name": "stdout",
     "output_type": "stream",
     "text": [
      "Solution found!\n",
      "CPU times: total: 3.27 s\n",
      "Wall time: 3.31 s\n"
     ]
    }
   ],
   "source": [
    "%%time\n",
    "\n",
    "bfs = BFS(puzzle_12_steps)\n",
    "bfs.search()"
   ]
  },
  {
   "cell_type": "code",
   "execution_count": 9,
   "metadata": {},
   "outputs": [
    {
     "name": "stdout",
     "output_type": "stream",
     "text": [
      "Solution found!\n",
      "CPU times: total: 12.7 s\n",
      "Wall time: 12.8 s\n"
     ]
    }
   ],
   "source": [
    "%%time\n",
    "\n",
    "bfs = BFS(puzzle_13_steps)\n",
    "bfs.search()"
   ]
  },
  {
   "cell_type": "code",
   "execution_count": 10,
   "metadata": {},
   "outputs": [
    {
     "name": "stdout",
     "output_type": "stream",
     "text": [
      "Solution found!\n",
      "CPU times: total: 27.8 s\n",
      "Wall time: 28.5 s\n"
     ]
    }
   ],
   "source": [
    "%%time\n",
    "\n",
    "bfs = BFS(puzzle_14_steps)\n",
    "bfs.search()"
   ]
  },
  {
   "cell_type": "markdown",
   "metadata": {},
   "source": [
    "Breadth-first search via function:"
   ]
  },
  {
   "cell_type": "code",
   "execution_count": 11,
   "metadata": {},
   "outputs": [],
   "source": [
    "def bfs(problem):\n",
    "    node = problem.initial\n",
    "    \n",
    "    if problem.objective(node.state):\n",
    "        return node.solution\n",
    "\n",
    "    explored = deque([])\n",
    "    frontier = deque([node])\n",
    "    \n",
    "    while True:\n",
    "        if not frontier:\n",
    "            print(\"Search process failed!\")\n",
    "            return None\n",
    "\n",
    "        # Performing the search step\n",
    "        node = frontier.popleft()\n",
    "        \n",
    "        explored.append(node.state)\n",
    "        \n",
    "        for action in problem.actions(node.state):\n",
    "            child = Node.child(problem, node, action)\n",
    "            \n",
    "            visited = False\n",
    "            for state_explored in explored:\n",
    "                if np.array_equal(child.state, state_explored):\n",
    "                    visited = True\n",
    "                    break\n",
    "            \n",
    "            if child not in frontier and not visited:\n",
    "                if problem.objective(child.state):\n",
    "                    print(\"Solution found!\")\n",
    "                    return child.solution\n",
    "      \n",
    "                frontier.append(child)\n",
    "\n",
    "def show_solution(solution):\n",
    "    print('\\n\\n'.join([node.__str__() for node in solution]) + \\\n",
    "         f'\\n\\nCost: {solution[-1].cost}')"
   ]
  },
  {
   "cell_type": "markdown",
   "metadata": {},
   "source": [
    "Checking the efficiency:"
   ]
  },
  {
   "cell_type": "code",
   "execution_count": 12,
   "metadata": {},
   "outputs": [
    {
     "name": "stdout",
     "output_type": "stream",
     "text": [
      "Solution found!\n",
      "CPU times: total: 3.38 s\n",
      "Wall time: 3.41 s\n"
     ]
    }
   ],
   "source": [
    "%%time\n",
    "\n",
    "_ = bfs(puzzle_12_steps)"
   ]
  },
  {
   "cell_type": "code",
   "execution_count": 13,
   "metadata": {},
   "outputs": [
    {
     "name": "stdout",
     "output_type": "stream",
     "text": [
      "Solution found!\n",
      "CPU times: total: 12.9 s\n",
      "Wall time: 13.1 s\n"
     ]
    }
   ],
   "source": [
    "%%time\n",
    "\n",
    "_ = bfs(puzzle_13_steps)"
   ]
  },
  {
   "cell_type": "code",
   "execution_count": 14,
   "metadata": {},
   "outputs": [
    {
     "name": "stdout",
     "output_type": "stream",
     "text": [
      "Solution found!\n",
      "CPU times: total: 27.6 s\n",
      "Wall time: 27.8 s\n"
     ]
    }
   ],
   "source": [
    "%%time\n",
    "\n",
    "_ = bfs(puzzle_14_steps)"
   ]
  },
  {
   "cell_type": "markdown",
   "metadata": {
    "jp-MarkdownHeadingCollapsed": true
   },
   "source": [
    "## BACKTRACKING SEARCH (EFFICIENT FOR PATHS WITH UP TO 12 STEPS)"
   ]
  },
  {
   "cell_type": "code",
   "execution_count": 15,
   "metadata": {},
   "outputs": [],
   "source": [
    "reverse_state = {'l': 'r',\n",
    "                 'r': 'l',\n",
    "                 'd': 'u',\n",
    "                 'u': 'd'}\n",
    "\n",
    "def backtracking(problem, limit):\n",
    "    solution = np.array([None for i in range(limit+1)])\n",
    "    \n",
    "    size = 0\n",
    "    solution[size] = (problem.initial.state,\n",
    "                      problem.actions(problem.initial.state))\n",
    "    \n",
    "    while not problem.objective(solution[size][0]):        \n",
    "        if size == limit:\n",
    "            size -= 1\n",
    "            \n",
    "            while not solution[size][1]:\n",
    "                size -= 1\n",
    "                \n",
    "                if size == -1:\n",
    "                    return None\n",
    "\n",
    "        state = problem.result(solution[size][0], solution[size][1].pop())\n",
    "\n",
    "        size += 1\n",
    "        solution[size] = (state, problem.actions(state))\n",
    "    \n",
    "    return solution"
   ]
  },
  {
   "cell_type": "markdown",
   "metadata": {},
   "source": [
    "Testing backtracking search:"
   ]
  },
  {
   "cell_type": "code",
   "execution_count": 16,
   "metadata": {},
   "outputs": [
    {
     "name": "stdout",
     "output_type": "stream",
     "text": [
      "CPU times: total: 1.22 s\n",
      "Wall time: 1.24 s\n"
     ]
    },
    {
     "data": {
      "text/plain": [
       "13"
      ]
     },
     "execution_count": 16,
     "metadata": {},
     "output_type": "execute_result"
    }
   ],
   "source": [
    "%%time\n",
    "\n",
    "solution = backtracking(puzzle_12_steps, 12)\n",
    "\n",
    "len(solution)"
   ]
  },
  {
   "cell_type": "code",
   "execution_count": 17,
   "metadata": {},
   "outputs": [
    {
     "name": "stdout",
     "output_type": "stream",
     "text": [
      "CPU times: total: 1.19 s\n",
      "Wall time: 1.26 s\n"
     ]
    },
    {
     "data": {
      "text/plain": [
       "14"
      ]
     },
     "execution_count": 17,
     "metadata": {},
     "output_type": "execute_result"
    }
   ],
   "source": [
    "%%time\n",
    "\n",
    "solution = backtracking(puzzle_13_steps, 13)\n",
    "\n",
    "len(solution)"
   ]
  },
  {
   "cell_type": "code",
   "execution_count": 18,
   "metadata": {},
   "outputs": [
    {
     "name": "stdout",
     "output_type": "stream",
     "text": [
      "CPU times: total: 1.22 s\n",
      "Wall time: 1.25 s\n"
     ]
    },
    {
     "data": {
      "text/plain": [
       "15"
      ]
     },
     "execution_count": 18,
     "metadata": {},
     "output_type": "execute_result"
    }
   ],
   "source": [
    "%%time\n",
    "\n",
    "solution = backtracking(puzzle_14_steps, 14)\n",
    "\n",
    "len(solution)"
   ]
  }
 ],
 "metadata": {
  "colab": {
   "collapsed_sections": [],
   "name": "search_algorithms.ipynb",
   "provenance": []
  },
  "kernelspec": {
   "display_name": "Python 3 (ipykernel)",
   "language": "python",
   "name": "python3"
  },
  "language_info": {
   "codemirror_mode": {
    "name": "ipython",
    "version": 3
   },
   "file_extension": ".py",
   "mimetype": "text/x-python",
   "name": "python",
   "nbconvert_exporter": "python",
   "pygments_lexer": "ipython3",
   "version": "3.11.4"
  }
 },
 "nbformat": 4,
 "nbformat_minor": 4
}
